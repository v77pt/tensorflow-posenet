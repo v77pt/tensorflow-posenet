{
 "cells": [
  {
   "cell_type": "code",
   "execution_count": 12,
   "metadata": {},
   "outputs": [],
   "source": [
    "# Import the converted model's class\n",
    "import numpy as np\n",
    "import random\n",
    "import tensorflow as tf\n",
    "from tensorflow.python.ops import rnn, rnn_cell\n",
    "#from posenet import GoogLeNet as PoseNet\n",
    "#from tqdm import tqdm\n",
    "import math\n",
    "\n",
    "from PIL import Image"
   ]
  },
  {
   "cell_type": "code",
   "execution_count": 39,
   "metadata": {},
   "outputs": [],
   "source": [
    "im = Image.open(\"et000.jpg\")\n",
    "im.resize((455, 256))\n",
    "\n",
    "a = np.array(im).astype('uint8')\n",
    "\n",
    "def centeredCrop(img, output_side_length):\n",
    "    height, width, depth = img.shape\n",
    "    new_height = output_side_length\n",
    "    new_width = output_side_length\n",
    "    if height > width:\n",
    "        new_height = output_side_length * height / width\n",
    "    else:\n",
    "        new_width = output_side_length * width / height\n",
    "    height_offset = (new_height - output_side_length) / 2\n",
    "    width_offset = (new_width - output_side_length) / 2\n",
    "    height_offset = int(height_offset)\n",
    "    width_offset = int(width_offset)\n",
    "    cropped_img = img[height_offset:height_offset + output_side_length,\n",
    "                    width_offset:width_offset + output_side_length]\n",
    "    return cropped_img"
   ]
  },
  {
   "cell_type": "code",
   "execution_count": 43,
   "metadata": {},
   "outputs": [
    {
     "data": {
      "text/plain": [
       "3"
      ]
     },
     "execution_count": 43,
     "metadata": {},
     "output_type": "execute_result"
    }
   ],
   "source": []
  }
 ],
 "metadata": {
  "kernelspec": {
   "display_name": "Python 3",
   "language": "python",
   "name": "python3"
  },
  "language_info": {
   "codemirror_mode": {
    "name": "ipython",
    "version": 3
   },
   "file_extension": ".py",
   "mimetype": "text/x-python",
   "name": "python",
   "nbconvert_exporter": "python",
   "pygments_lexer": "ipython3",
   "version": "3.6.3"
  }
 },
 "nbformat": 4,
 "nbformat_minor": 2
}
